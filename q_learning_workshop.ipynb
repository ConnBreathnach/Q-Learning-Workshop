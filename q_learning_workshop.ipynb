{
 "cells": [
  {
   "cell_type": "code",
   "execution_count": 1,
   "outputs": [],
   "source": [
    "# !pip install gym\n",
    "# !pip install gym[toy_text]\n",
    "# !pip install numpy\n",
    "# !pip install matplotlib\n",
    "# !pip install tqdm\n",
    "\n",
    "\n",
    "import gym\n",
    "import numpy as np"
   ],
   "metadata": {
    "collapsed": false,
    "pycharm": {
     "name": "#%%\n"
    }
   }
  },
  {
   "cell_type": "markdown",
   "source": [
    "# Frozen Lake Environment with Q-Learning\n",
    "### We'll need to set up the environment and the Q-table first.\n",
    "### We then need to define the hyperparameters for the Q-Learning algorithm."
   ],
   "metadata": {
    "collapsed": false,
    "pycharm": {
     "name": "#%% md\n"
    }
   }
  },
  {
   "cell_type": "code",
   "execution_count": 2,
   "outputs": [],
   "source": [
    "env = gym.make('FrozenLake-v1', is_slippery=False, map_name='4x4')\n",
    "q_table = np.zeros([env.observation_space.n, env.action_space.n])\n",
    "gamma = 0.9\n",
    "alpha = 1\n",
    "epsilon = 0.25"
   ],
   "metadata": {
    "collapsed": false,
    "pycharm": {
     "name": "#%%\n"
    }
   }
  },
  {
   "cell_type": "markdown",
   "source": [
    "## We need some functions to help us with the Q-Learning algorithm.\n",
    "### Here we define the epsilon-greedy policy, which will help us choose the next action (recall last week's workshop)."
   ],
   "metadata": {
    "collapsed": false,
    "pycharm": {
     "name": "#%% md\n"
    }
   }
  },
  {
   "cell_type": "code",
   "execution_count": 3,
   "outputs": [
    {
     "ename": "SyntaxError",
     "evalue": "invalid syntax (1456179549.py, line 6)",
     "output_type": "error",
     "traceback": [
      "\u001B[0;36m  Input \u001B[0;32mIn [3]\u001B[0;36m\u001B[0m\n\u001B[0;31m    action = SOMETHING ELSE\u001B[0m\n\u001B[0m                       ^\u001B[0m\n\u001B[0;31mSyntaxError\u001B[0m\u001B[0;31m:\u001B[0m invalid syntax\n"
     ]
    }
   ],
   "source": [
    "def choose_action(state):\n",
    "    #Hint: random action based on epsilon, otherwise greedy action\n",
    "    if X:\n",
    "        action = SOMETHING\n",
    "    else:\n",
    "        action = SOMETHING ELSE\n",
    "    return action"
   ],
   "metadata": {
    "collapsed": false,
    "pycharm": {
     "name": "#%%\n"
    }
   }
  },
  {
   "cell_type": "markdown",
   "source": [
    "## The Q-Learning algorithm\n",
    "# Recall that the Q-Learning algorithm is as follows:\n",
    "# $Q^{new}(s_t,a_t) \\leftarrow Q^{current}(s_t, a_t) + \\alpha \\times (r_t + \\gamma \\times argmax(Q^{current}(s_{t+1}, a)) - Q^{current}(s_t, a_t))$"
   ],
   "metadata": {
    "collapsed": false,
    "pycharm": {
     "name": "#%% md\n"
    }
   }
  },
  {
   "cell_type": "code",
   "execution_count": null,
   "outputs": [],
   "source": [
    "def update_q_table(state, action, reward, next_state):\n",
    "    #Implement the Q-Learning algorithm\n",
    "    q_table[state, action] = UPDATED_VALUE"
   ],
   "metadata": {
    "collapsed": false,
    "pycharm": {
     "name": "#%%\n"
    }
   }
  },
  {
   "cell_type": "code",
   "execution_count": null,
   "outputs": [],
   "source": [
    "def play():\n",
    "    state = env.reset()\n",
    "    total_reward = 0\n",
    "    while True:\n",
    "        # env.render()\n",
    "        action = choose_action(state)\n",
    "        next_state, reward, done, info = env.step(action)\n",
    "        update_q_table(state, action, reward, next_state)\n",
    "        state = next_state\n",
    "        total_reward += reward\n",
    "        if done:\n",
    "            break\n",
    "    return total_reward"
   ],
   "metadata": {
    "collapsed": false,
    "pycharm": {
     "name": "#%%\n"
    }
   }
  },
  {
   "cell_type": "code",
   "execution_count": null,
   "outputs": [],
   "source": [
    "import tqdm\n",
    "all_rewards = []\n",
    "for i in tqdm.tqdm(range(10000)):\n",
    "    total_reward = play()\n",
    "    all_rewards.append(total_reward)\n",
    "    # print('Episode: {}, Total Reward: {}'.format(i, total_reward))"
   ],
   "metadata": {
    "collapsed": false,
    "pycharm": {
     "name": "#%%\n"
    }
   }
  },
  {
   "cell_type": "code",
   "execution_count": null,
   "outputs": [],
   "source": [
    "env.render()\n",
    "env.close()"
   ],
   "metadata": {
    "collapsed": false,
    "pycharm": {
     "name": "#%%\n"
    }
   }
  },
  {
   "cell_type": "code",
   "execution_count": null,
   "outputs": [],
   "source": [
    "import matplotlib.pyplot as plt\n",
    "plt.plot(all_rewards)\n",
    "plt.show()"
   ],
   "metadata": {
    "collapsed": false,
    "pycharm": {
     "name": "#%%\n"
    }
   }
  },
  {
   "cell_type": "code",
   "execution_count": null,
   "outputs": [],
   "source": [
    "print(q_table)"
   ],
   "metadata": {
    "collapsed": false,
    "pycharm": {
     "name": "#%%\n"
    }
   }
  }
 ],
 "metadata": {
  "kernelspec": {
   "display_name": "Python 3",
   "language": "python",
   "name": "python3"
  },
  "language_info": {
   "codemirror_mode": {
    "name": "ipython",
    "version": 2
   },
   "file_extension": ".py",
   "mimetype": "text/x-python",
   "name": "python",
   "nbconvert_exporter": "python",
   "pygments_lexer": "ipython2",
   "version": "2.7.6"
  }
 },
 "nbformat": 4,
 "nbformat_minor": 0
}